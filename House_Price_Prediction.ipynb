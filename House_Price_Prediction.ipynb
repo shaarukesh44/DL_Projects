{
 "cells": [
  {
   "cell_type": "code",
   "execution_count": null,
   "id": "79e5f880",
   "metadata": {},
   "outputs": [],
   "source": [
    "import pandas as pd\n",
    "from sklearn.model_selection import train_test_split\n",
    "from sklearn.preprocessing import OneHotEncoder\n",
    "from sklearn.compose import ColumnTransformer\n",
    "from sklearn.metrics import mean_absolute_error\n",
    "import tensorflow as tf\n",
    "from tensorflow import keras"
   ]
  },
  {
   "cell_type": "code",
   "execution_count": null,
   "id": "c1d7903e",
   "metadata": {},
   "outputs": [],
   "source": [
    "data = pd.read_csv('Housing.csv')\n",
    "\n",
    "categorical_cols = ['mainroad', 'guestroom', 'basement', 'hotwaterheating', 'airconditioning', 'prefarea', 'furnishingstatus']\n",
    "X = data.drop('price', axis=1)\n",
    "y = data['price']\n",
    "\n",
    "preprocessor = ColumnTransformer([\n",
    "    ('cat', OneHotEncoder(drop='first'), categorical_cols)\n",
    "], remainder='passthrough')\n",
    "X_encoded = preprocessor.fit_transform(X)\n",
    "\n",
    "X_train, X_test, y_train, y_test = train_test_split(X_encoded, y, test_size=0.2, random_state=42)\n",
    "\n",
    "model = keras.Sequential([\n",
    "    keras.layers.Dense(32, activation='relu', input_shape=(X_train.shape[1],)),\n",
    "    keras.layers.Dense(16, activation='relu'),\n",
    "    keras.layers.Dense(1)\n",
    "])\n",
    "\n",
    "model.compile(optimizer='adam', loss='mse', metrics=['mae'])\n",
    "\n",
    "history = model.fit(X_train, y_train, epochs=50, batch_size=16, validation_split=0.1, verbose=1)\n",
    "loss, mae = model.evaluate(X_test, y_test, verbose=0)\n",
    "print(f\"Test Mean Absolute Error: {mae:.2f}\")\n",
    "\n",
    "sample_house = pd.DataFrame([{\n",
    "    'area': 4000,\n",
    "    'bedrooms': 2,\n",
    "    'bathrooms': 2,\n",
    "    'stories': 3,\n",
    "    'mainroad': 'yes',\n",
    "    'guestroom': 'no',\n",
    "    'basement': 'yes',\n",
    "    'hotwaterheating': 'no',\n",
    "    'airconditioning': 'yes',\n",
    "    'parking': 3,\n",
    "    'prefarea': 'yes',\n",
    "    'furnishingstatus': 'furnished'\n",
    "}])\n",
    "\n",
    "sample_encoded = preprocessor.transform(sample_house)\n",
    "predicted_price = model.predict(sample_encoded)\n",
    "print(f\"Predicted price for sample house: {predicted_price[0][0]:.2f}\")\n"
   ]
  }
 ],
 "metadata": {
  "kernelspec": {
   "display_name": "Python 3 (ipykernel)",
   "language": "python",
   "name": "python3"
  },
  "language_info": {
   "codemirror_mode": {
    "name": "ipython",
    "version": 3
   },
   "file_extension": ".py",
   "mimetype": "text/x-python",
   "name": "python",
   "nbconvert_exporter": "python",
   "pygments_lexer": "ipython3",
   "version": "3.11.5"
  }
 },
 "nbformat": 4,
 "nbformat_minor": 5
}
